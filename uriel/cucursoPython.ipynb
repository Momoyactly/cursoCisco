{
 "cells": [
  {
   "cell_type": "markdown",
   "metadata": {},
   "source": [
    "# Tipos de Variables"
   ]
  },
  {
   "cell_type": "code",
   "execution_count": 6,
   "metadata": {},
   "outputs": [
    {
     "data": {
      "text/plain": [
       "str"
      ]
     },
     "execution_count": 6,
     "metadata": {},
     "output_type": "execute_result"
    }
   ],
   "source": [
    "x = \"Hello World\"\n",
    "type(x)"
   ]
  },
  {
   "cell_type": "code",
   "execution_count": 2,
   "metadata": {},
   "outputs": [
    {
     "data": {
      "text/plain": [
       "int"
      ]
     },
     "execution_count": 2,
     "metadata": {},
     "output_type": "execute_result"
    }
   ],
   "source": [
    "x = 20\n",
    "type(x)"
   ]
  },
  {
   "cell_type": "code",
   "execution_count": 10,
   "metadata": {},
   "outputs": [],
   "source": [
    "x = 20.5\n",
    "type(x)\n",
    "flotanteUño= \"dos\""
   ]
  },
  {
   "cell_type": "code",
   "execution_count": 4,
   "metadata": {},
   "outputs": [
    {
     "data": {
      "text/plain": [
       "int"
      ]
     },
     "execution_count": 4,
     "metadata": {},
     "output_type": "execute_result"
    }
   ],
   "source": [
    "x = -30\n",
    "type(x)"
   ]
  },
  {
   "cell_type": "code",
   "execution_count": 8,
   "metadata": {},
   "outputs": [
    {
     "data": {
      "text/plain": [
       "(99+20j)"
      ]
     },
     "execution_count": 8,
     "metadata": {},
     "output_type": "execute_result"
    }
   ],
   "source": [
    "x = 10+1j\n",
    "type(x)\n",
    "x*x"
   ]
  },
  {
   "cell_type": "markdown",
   "metadata": {},
   "source": [
    "# Casting"
   ]
  },
  {
   "cell_type": "code",
   "execution_count": 19,
   "metadata": {},
   "outputs": [
    {
     "data": {
      "text/plain": [
       "(1, 2, 3)"
      ]
     },
     "execution_count": 19,
     "metadata": {},
     "output_type": "execute_result"
    }
   ],
   "source": [
    "x = int(1)   \n",
    "y = int(2.8) \n",
    "z = int(\"3\")\n",
    "x,y,z"
   ]
  },
  {
   "cell_type": "code",
   "execution_count": 21,
   "metadata": {},
   "outputs": [
    {
     "data": {
      "text/plain": [
       "(4.2, 1.0, 2.8, 3.0)"
      ]
     },
     "execution_count": 21,
     "metadata": {},
     "output_type": "execute_result"
    }
   ],
   "source": [
    "x = float(1)     \n",
    "y = float(2.8)   \n",
    "z = float(\"3\")   \n",
    "w = float(\"4.2\")\n",
    "es=(w,x,y,z)\n",
    "es"
   ]
  },
  {
   "cell_type": "code",
   "execution_count": 8,
   "metadata": {},
   "outputs": [],
   "source": [
    "x = str(\"s1\") \n",
    "y = str(2)    \n",
    "z = str(3.0)  "
   ]
  },
  {
   "cell_type": "markdown",
   "metadata": {},
   "source": [
    "# Estructuras"
   ]
  },
  {
   "cell_type": "code",
   "execution_count": null,
   "metadata": {},
   "outputs": [],
   "source": []
  },
  {
   "cell_type": "code",
   "execution_count": 29,
   "metadata": {},
   "outputs": [
    {
     "name": "stdout",
     "output_type": "stream",
     "text": [
      "apple\n",
      "banana\n",
      "cherry\n",
      "23\n",
      "True\n"
     ]
    }
   ],
   "source": [
    "x = [\"apple\", \"banana\", \"cherry\",23, True]\n",
    "type(x)\n",
    "for valor in x:\n",
    "    print(valor)"
   ]
  },
  {
   "cell_type": "code",
   "execution_count": 23,
   "metadata": {},
   "outputs": [
    {
     "data": {
      "text/plain": [
       "tuple"
      ]
     },
     "execution_count": 23,
     "metadata": {},
     "output_type": "execute_result"
    }
   ],
   "source": [
    "x = (\"apple\", \"banana\", \"cherry\",12,23.54)\n",
    "type(x)"
   ]
  },
  {
   "cell_type": "code",
   "execution_count": 32,
   "metadata": {},
   "outputs": [
    {
     "name": "stdout",
     "output_type": "stream",
     "text": [
      "x= 0\n",
      "x= 1\n",
      "x= 2\n",
      "x= 3\n",
      "x= 4\n",
      "x= 5\n",
      "y= 2\n",
      "y= 3\n",
      "y= 4\n",
      "y= 5\n",
      "z= 2\n",
      "z= 4\n"
     ]
    }
   ],
   "source": [
    "x = range(6)\n",
    "for valor in x:\n",
    "    print(\"x=\",valor)\n",
    "y = range(2,6)\n",
    "for valor in y:\n",
    "    print(\"y=\",valor)\n",
    "z = range(2,6,2)\n",
    "for valor in z:\n",
    "    print(\"z=\",valor)\n"
   ]
  },
  {
   "cell_type": "code",
   "execution_count": 33,
   "metadata": {},
   "outputs": [
    {
     "data": {
      "text/plain": [
       "2"
      ]
     },
     "execution_count": 33,
     "metadata": {},
     "output_type": "execute_result"
    }
   ],
   "source": [
    "x[2]"
   ]
  },
  {
   "cell_type": "code",
   "execution_count": 34,
   "metadata": {},
   "outputs": [
    {
     "data": {
      "text/plain": [
       "'John'"
      ]
     },
     "execution_count": 34,
     "metadata": {},
     "output_type": "execute_result"
    }
   ],
   "source": [
    "x = {\"name\" : \"John\", \"age\" : 36}\n",
    "x[\"name\"]"
   ]
  },
  {
   "cell_type": "code",
   "execution_count": 14,
   "metadata": {},
   "outputs": [
    {
     "data": {
      "text/plain": [
       "bool"
      ]
     },
     "execution_count": 14,
     "metadata": {},
     "output_type": "execute_result"
    }
   ],
   "source": [
    "x = True\n",
    "type(x)"
   ]
  },
  {
   "cell_type": "markdown",
   "metadata": {},
   "source": [
    "# Funciones"
   ]
  },
  {
   "cell_type": "code",
   "execution_count": 37,
   "metadata": {},
   "outputs": [
    {
     "name": "stdout",
     "output_type": "stream",
     "text": [
      "Hello from a function\n",
      "Hello 2 from a function\n"
     ]
    }
   ],
   "source": [
    "def my_function():\n",
    "  print(\"Hello from a function\")\n",
    "\n",
    "my_function()\n",
    "\n",
    "def imprime(name):\n",
    "  print(\"Hello \"+str(name)+\" from a function\")\n",
    "\n",
    "imprime(2)"
   ]
  },
  {
   "cell_type": "markdown",
   "metadata": {},
   "source": [
    "# Clases"
   ]
  },
  {
   "cell_type": "code",
   "execution_count": 39,
   "metadata": {},
   "outputs": [],
   "source": [
    "class MyClass:\n",
    "    numSerie = 5\n",
    "    numPuertos =24"
   ]
  },
  {
   "cell_type": "code",
   "execution_count": 40,
   "metadata": {},
   "outputs": [
    {
     "name": "stdout",
     "output_type": "stream",
     "text": [
      "5\n"
     ]
    }
   ],
   "source": [
    "ISR1111 = MyClass()\n",
    "ISR1121 = MyClass()\n",
    "print(ISR1111.numSerie)"
   ]
  },
  {
   "cell_type": "code",
   "execution_count": 41,
   "metadata": {},
   "outputs": [
    {
     "name": "stdout",
     "output_type": "stream",
     "text": [
      "John\n",
      "36\n"
     ]
    },
    {
     "data": {
      "text/plain": [
       "__main__.Person"
      ]
     },
     "execution_count": 41,
     "metadata": {},
     "output_type": "execute_result"
    }
   ],
   "source": [
    "class Person:\n",
    "  def __init__(self, name, age):\n",
    "    self.name = name\n",
    "    self.age = age\n",
    "\n",
    "p1 = Person(\"John\", 36)\n",
    "\n",
    "print(p1.name)\n",
    "print(p1.age)\n",
    "type(p1)"
   ]
  },
  {
   "cell_type": "code",
   "execution_count": 42,
   "metadata": {},
   "outputs": [
    {
     "name": "stdout",
     "output_type": "stream",
     "text": [
      "Hello my name is John\n",
      "60\n"
     ]
    }
   ],
   "source": [
    "class Person:\n",
    "  def __init__(self, name, age):\n",
    "    self.name = name\n",
    "    self.age = age\n",
    "\n",
    "  def myfunc(self):\n",
    "    print(\"Hello my name is \" + self.name)\n",
    "    \n",
    "  def __add__(self,other):\n",
    "    return self.age + other.age\n",
    "\n",
    "p1 = Person(\"John\", 36)\n",
    "p2 = Person(\"Uriel\", 24)\n",
    "\n",
    "p1.myfunc()\n",
    "\n",
    "print(p1+p2)\n"
   ]
  },
  {
   "cell_type": "code",
   "execution_count": 20,
   "metadata": {},
   "outputs": [
    {
     "name": "stdout",
     "output_type": "stream",
     "text": [
      "Requirement already satisfied: webexteamssdk in /Users/joarriag/anaconda3/lib/python3.7/site-packages (1.2)\n",
      "Requirement already satisfied: requests-toolbelt in /Users/joarriag/anaconda3/lib/python3.7/site-packages (from webexteamssdk) (0.9.1)\n",
      "Requirement already satisfied: future in /Users/joarriag/anaconda3/lib/python3.7/site-packages (from webexteamssdk) (0.17.1)\n",
      "Requirement already satisfied: PyJWT in /Users/joarriag/anaconda3/lib/python3.7/site-packages (from webexteamssdk) (1.7.1)\n",
      "Requirement already satisfied: requests>=2.4.2 in /Users/joarriag/anaconda3/lib/python3.7/site-packages (from webexteamssdk) (2.22.0)\n",
      "Requirement already satisfied: certifi>=2017.4.17 in /Users/joarriag/anaconda3/lib/python3.7/site-packages (from requests>=2.4.2->webexteamssdk) (2019.9.11)\n",
      "Requirement already satisfied: chardet<3.1.0,>=3.0.2 in /Users/joarriag/anaconda3/lib/python3.7/site-packages (from requests>=2.4.2->webexteamssdk) (3.0.4)\n",
      "Requirement already satisfied: urllib3!=1.25.0,!=1.25.1,<1.26,>=1.21.1 in /Users/joarriag/anaconda3/lib/python3.7/site-packages (from requests>=2.4.2->webexteamssdk) (1.24.2)\n",
      "Requirement already satisfied: idna<2.9,>=2.5 in /Users/joarriag/anaconda3/lib/python3.7/site-packages (from requests>=2.4.2->webexteamssdk) (2.8)\n"
     ]
    }
   ],
   "source": [
    "!pip install webexteamssdk"
   ]
  },
  {
   "cell_type": "code",
   "execution_count": 21,
   "metadata": {},
   "outputs": [],
   "source": [
    "from webexteamssdk import WebexTeamsAPI as wt"
   ]
  },
  {
   "cell_type": "code",
   "execution_count": 22,
   "metadata": {},
   "outputs": [],
   "source": [
    "api = wt(access_token=\"ZTNjZjBiZTMtNjhmOC00ODJkLTg3MzAtMjg0MTAxNDBlNWY4MDljYTkwMmQtNGY0_PF84_1eb65fdf-9643-417f-9974-ad72cae0e10f\")"
   ]
  },
  {
   "cell_type": "code",
   "execution_count": 23,
   "metadata": {},
   "outputs": [],
   "source": [
    "all_rooms = api.rooms.list()"
   ]
  },
  {
   "cell_type": "code",
   "execution_count": 24,
   "metadata": {},
   "outputs": [
    {
     "name": "stdout",
     "output_type": "stream",
     "text": [
      "Webex Teams Room:\n",
      "{\n",
      "  \"id\": \"Y2lzY29zcGFyazovL3VzL1JPT00vZDY1NDY0ZTMtMjExOC0zYjJiLThkOTUtNTBiNTVkZDU2YjRk\",\n",
      "  \"title\": \"Ulises Martinez Uribe\",\n",
      "  \"type\": \"direct\",\n",
      "  \"isLocked\": false,\n",
      "  \"lastActivity\": \"2019-09-30T22:09:44.985Z\",\n",
      "  \"creatorId\": \"Y2lzY29zcGFyazovL3VzL1BFT1BMRS82ZTE1YmFiYy1lMDRkLTRhM2EtOTg5My01YTUwZGViNThmOWQ\",\n",
      "  \"created\": \"2019-09-30T21:21:30.830Z\",\n",
      "  \"ownerId\": \"1eb65fdf-9643-417f-9974-ad72cae0e10f\"\n",
      "}\n",
      "Webex Teams Room:\n",
      "{\n",
      "  \"id\": \"Y2lzY29zcGFyazovL3VzL1JPT00vMTRkMzU4OGQtNzBkNi0zZDRkLWFkMDMtNmEzZGE2NjNjMjUw\",\n",
      "  \"title\": \"Uriel Arriaga Alvarado\",\n",
      "  \"type\": \"direct\",\n",
      "  \"isLocked\": false,\n",
      "  \"lastActivity\": \"2020-01-04T19:23:25.562Z\",\n",
      "  \"creatorId\": \"Y2lzY29zcGFyazovL3VzL1BFT1BMRS85ZjRmMDdmYi1hMmFmLTRmZjctOTk0MC1hNGE3NjU2YWQ0OTc\",\n",
      "  \"created\": \"2019-09-30T20:46:05.158Z\",\n",
      "  \"ownerId\": \"1eb65fdf-9643-417f-9974-ad72cae0e10f\"\n",
      "}\n",
      "Webex Teams Room:\n",
      "{\n",
      "  \"id\": \"Y2lzY29zcGFyazovL3VzL1JPT00vYmQ1MzBjNTAtYjk2Ni0xMWU5LThmMzEtMzkyMWRjNDkyZjNl\",\n",
      "  \"title\": \"LOCAL GOV FY20 / Ricardo & Team\",\n",
      "  \"type\": \"group\",\n",
      "  \"isLocked\": false,\n",
      "  \"lastActivity\": \"2020-01-06T18:47:22.778Z\",\n",
      "  \"teamId\": \"Y2lzY29zcGFyazovL3VzL1RFQU0vY2FiODQ3NTAtMGJmZi0xMWU3LTkzZjktZmYzNDkwNjY0N2Y4\",\n",
      "  \"creatorId\": \"Y2lzY29zcGFyazovL3VzL1BFT1BMRS9jYTQzZmVhMi04YmEyLTQzYmYtYmJiYS02M2FlNTFhMDBkNDQ\",\n",
      "  \"created\": \"2019-08-07T22:57:32.580Z\",\n",
      "  \"ownerId\": \"1eb65fdf-9643-417f-9974-ad72cae0e10f\"\n",
      "}\n"
     ]
    }
   ],
   "source": [
    "for room in all_rooms:\n",
    "    print(room)"
   ]
  }
 ],
 "metadata": {
  "kernelspec": {
   "display_name": "Python 3",
   "language": "python",
   "name": "python3"
  },
  "language_info": {
   "codemirror_mode": {
    "name": "ipython",
    "version": 3
   },
   "file_extension": ".py",
   "mimetype": "text/x-python",
   "name": "python",
   "nbconvert_exporter": "python",
   "pygments_lexer": "ipython3",
   "version": "3.7.4"
  }
 },
 "nbformat": 4,
 "nbformat_minor": 2
}
