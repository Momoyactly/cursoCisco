{
 "cells": [
  {
   "cell_type": "code",
   "execution_count": 42,
   "metadata": {},
   "outputs": [],
   "source": [
    "jsonEjemplo=\"\"\"\n",
    "  {   \"version\": \"2.0\",\n",
    "      \"secret\": \"supersecret\",\n",
    "      \"type\": \"DevicesSeen\",\n",
    "      \"data\": {\n",
    "        \"apMac\": \"00:18:0a:13:dd:b0\",\n",
    "        \"apFloors\": [],\n",
    "        \"apTags\": [\n",
    "            \"dev\",\n",
    "            \"entrance\",\n",
    "            \"office\"\n",
    "        ],\n",
    "        \"observations\": [\n",
    "            {\n",
    "                \"ipv4\": \"/192.168.0.38\",\n",
    "                \"location\": {\n",
    "                    \"lat\": 51.5355157,\n",
    "                    \"lng\": -0.06990350000000944,\n",
    "                    \"unc\": 1.233417960754815,\n",
    "                    \"x\": [],\n",
    "                    \"y\": []\n",
    "                },\n",
    "                \"seenTime\": \"2016-09-24T00:06:23Z\",\n",
    "                \"ssid\": \".interwebs\",\n",
    "                \"os\": null,\n",
    "                \"clientMac\": \"18:fe:34:fc:5a:7f\",\n",
    "                \"seenEpoch\": 1474675583,\n",
    "                \"rssi\": 47,\n",
    "                \"manufacturer\": \"Espressif\"\n",
    "            },\n",
    "            {\n",
    "                \"ipv4\": \"/192.168.0.15\",\n",
    "                \"location\": {\n",
    "                    \"lat\": 51.5355157,\n",
    "                    \"lng\": -0.06990350000000944,\n",
    "                    \"unc\": 1.5497743004111961,\n",
    "                    \"x\": [],\n",
    "                    \"y\": []\n",
    "                },\n",
    "                \"seenTime\": \"2016-09-24T00:06:40Z\",\n",
    "                \"ssid\": \".interwebs\",\n",
    "                \"os\": \"Generic Linux\",\n",
    "                \"clientMac\": \"74:da:38:56:0a:80\",\n",
    "                \"seenEpoch\": 1474675600,\n",
    "                \"rssi\": 47,\n",
    "                \"manufacturer\": \"Edimax Technology\"\n",
    "            }\n",
    "        ]\n",
    "    } }\n",
    "\"\"\"\n"
   ]
  },
  {
   "cell_type": "code",
   "execution_count": 43,
   "metadata": {},
   "outputs": [
    {
     "data": {
      "text/plain": [
       "'  {   \"version\": \"2.0\",      \"secret\": \"supersecret\",      \"type\": \"DevicesSeen\",      \"data\": {        \"apMac\": \"00:18:0a:13:dd:b0\",        \"apFloors\": [],        \"apTags\": [            \"dev\",            \"entrance\",            \"office\"        ],        \"observations\": [            {                \"ipv4\": \"/192.168.0.38\",                \"location\": {                    \"lat\": 51.5355157,                    \"lng\": -0.06990350000000944,                    \"unc\": 1.233417960754815,                    \"x\": [],                    \"y\": []                },                \"seenTime\": \"2016-09-24T00:06:23Z\",                \"ssid\": \".interwebs\",                \"os\": null,                \"clientMac\": \"18:fe:34:fc:5a:7f\",                \"seenEpoch\": 1474675583,                \"rssi\": 47,                \"manufacturer\": \"Espressif\"            },            {                \"ipv4\": \"/192.168.0.15\",                \"location\": {                    \"lat\": 51.5355157,                    \"lng\": -0.06990350000000944,                    \"unc\": 1.5497743004111961,                    \"x\": [],                    \"y\": []                },                \"seenTime\": \"2016-09-24T00:06:40Z\",                \"ssid\": \".interwebs\",                \"os\": \"Generic Linux\",                \"clientMac\": \"74:da:38:56:0a:80\",                \"seenEpoch\": 1474675600,                \"rssi\": 47,                \"manufacturer\": \"Edimax Technology\"            }        ]    } }'"
      ]
     },
     "execution_count": 43,
     "metadata": {},
     "output_type": "execute_result"
    }
   ],
   "source": [
    "import json\n",
    "dicEjemplo=jsonEjemplo.replace('\\n', '')\n",
    "dicEjemplo"
   ]
  },
  {
   "cell_type": "code",
   "execution_count": 45,
   "metadata": {},
   "outputs": [],
   "source": [
    "dicScanning=json.loads(dicEjemplo)"
   ]
  },
  {
   "cell_type": "code",
   "execution_count": 48,
   "metadata": {},
   "outputs": [
    {
     "data": {
      "text/plain": [
       "{'version': '2.0',\n",
       " 'secret': 'supersecret',\n",
       " 'type': 'DevicesSeen',\n",
       " 'data': {'apMac': '00:18:0a:13:dd:b0',\n",
       "  'apFloors': [],\n",
       "  'apTags': ['dev', 'entrance', 'office'],\n",
       "  'observations': [{'ipv4': '/192.168.0.38',\n",
       "    'location': {'lat': 51.5355157,\n",
       "     'lng': -0.06990350000000944,\n",
       "     'unc': 1.233417960754815,\n",
       "     'x': [],\n",
       "     'y': []},\n",
       "    'seenTime': '2016-09-24T00:06:23Z',\n",
       "    'ssid': '.interwebs',\n",
       "    'os': None,\n",
       "    'clientMac': '18:fe:34:fc:5a:7f',\n",
       "    'seenEpoch': 1474675583,\n",
       "    'rssi': 47,\n",
       "    'manufacturer': 'Espressif'},\n",
       "   {'ipv4': '/192.168.0.15',\n",
       "    'location': {'lat': 51.5355157,\n",
       "     'lng': -0.06990350000000944,\n",
       "     'unc': 1.5497743004111961,\n",
       "     'x': [],\n",
       "     'y': []},\n",
       "    'seenTime': '2016-09-24T00:06:40Z',\n",
       "    'ssid': '.interwebs',\n",
       "    'os': 'Generic Linux',\n",
       "    'clientMac': '74:da:38:56:0a:80',\n",
       "    'seenEpoch': 1474675600,\n",
       "    'rssi': 47,\n",
       "    'manufacturer': 'Edimax Technology'}]}}"
      ]
     },
     "execution_count": 48,
     "metadata": {},
     "output_type": "execute_result"
    }
   ],
   "source": [
    "dicScanning"
   ]
  },
  {
   "cell_type": "code",
   "execution_count": 51,
   "metadata": {},
   "outputs": [
    {
     "data": {
      "text/plain": [
       "51.5355157"
      ]
     },
     "execution_count": 51,
     "metadata": {},
     "output_type": "execute_result"
    }
   ],
   "source": [
    " dicScanning[\"data\"][\"observations\"][0][\"location\"][\"lat\"]"
   ]
  },
  {
   "cell_type": "code",
   "execution_count": 59,
   "metadata": {},
   "outputs": [
    {
     "name": "stdout",
     "output_type": "stream",
     "text": [
      "<class 'list'>\n",
      "18:fe:34:fc:5a:7f\n",
      "51.5355157\n",
      "74:da:38:56:0a:80\n",
      "51.5355157\n"
     ]
    }
   ],
   "source": [
    "clientes = dicScanning[\"data\"][\"observations\"]\n",
    "print(type(clientes))\n",
    "for cliente in clientes:\n",
    "    print (cliente[\"clientMac\"])\n",
    "    print (cliente[\"location\"][\"lat\"])"
   ]
  },
  {
   "cell_type": "code",
   "execution_count": 60,
   "metadata": {},
   "outputs": [],
   "source": [
    "numeros=[1,2,3,4]"
   ]
  },
  {
   "cell_type": "code",
   "execution_count": 62,
   "metadata": {},
   "outputs": [
    {
     "name": "stdout",
     "output_type": "stream",
     "text": [
      "el numero es: 1\n",
      "el numero es: 2\n",
      "el numero es: 3\n",
      "el numero es: 4\n"
     ]
    }
   ],
   "source": [
    "for numero in numeros:\n",
    "    print(\"el numero es:\",numero)"
   ]
  },
  {
   "cell_type": "code",
   "execution_count": 66,
   "metadata": {},
   "outputs": [
    {
     "name": "stdout",
     "output_type": "stream",
     "text": [
      "1\n",
      "12\n",
      "123\n",
      "1234\n",
      "1234\n"
     ]
    }
   ],
   "source": [
    "nums= \"\"\n",
    "for numero in numeros:\n",
    "    nums+=str(numero)\n",
    "    print(nums)\n",
    "print(nums)"
   ]
  },
  {
   "cell_type": "code",
   "execution_count": null,
   "metadata": {},
   "outputs": [],
   "source": [
    "<note>\n",
    "  <to>Tove</to>\n",
    "  <from>Jani</from>\n",
    "  <heading>Reminder</heading>\n",
    "  <body>Don't forget me this weekend!</body>\n",
    "</note>\n",
    "\n",
    "<ok/>"
   ]
  }
 ],
 "metadata": {
  "kernelspec": {
   "display_name": "Python 3",
   "language": "python",
   "name": "python3"
  },
  "language_info": {
   "codemirror_mode": {
    "name": "ipython",
    "version": 3
   },
   "file_extension": ".py",
   "mimetype": "text/x-python",
   "name": "python",
   "nbconvert_exporter": "python",
   "pygments_lexer": "ipython3",
   "version": "3.7.4"
  }
 },
 "nbformat": 4,
 "nbformat_minor": 2
}
