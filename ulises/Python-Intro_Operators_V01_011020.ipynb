{
 "cells": [
  {
   "cell_type": "markdown",
   "metadata": {},
   "source": [
    "<img src=\"Intro.png\" width=\"1000\" height=\"480\">\n"
   ]
  },
  {
   "cell_type": "code",
   "execution_count": 18,
   "metadata": {},
   "outputs": [
    {
     "name": "stdout",
     "output_type": "stream",
     "text": [
      "+ -> addition: 23\n",
      "+ -> substraction: 15\n",
      "+ -> Multiplication: 76\n",
      "+ -> Division (Float) : 4.75\n",
      "+ -> Division (Floor): 4\n",
      "+ -> Modulo: 3\n"
     ]
    }
   ],
   "source": [
    "# Examples of Arithmetic Operator \n",
    "a = 19\n",
    "b = 4\n",
    "\n",
    "# Addition of numbers \n",
    "add = a + b \n",
    "# Subtraction of numbers \n",
    "sub = a - b \n",
    "# Multiplication of number \n",
    "mul = a * b \n",
    "# Division(float) of number \n",
    "div1 = a / b \n",
    "# Division(floor) of number \n",
    "div2 = a // b \n",
    "# Modulo of both number \n",
    "mod = a % b \n",
    "\n",
    "# print results \n",
    "print(\"+ -> addition: \"  + str(add)) \n",
    "print(\"+ -> substraction: \"  + str(sub)) \n",
    "print(\"+ -> Multiplication: \"  + str(mul)) \n",
    "print(\"+ -> Division (Float) : \"  + str(div1)) \n",
    "print(\"+ -> Division (Floor): \"  + str(div2)) \n",
    "print(\"+ -> Modulo: \"  + str(mod)) \n"
   ]
  },
  {
   "cell_type": "code",
   "execution_count": null,
   "metadata": {},
   "outputs": [],
   "source": [
    "# Exercise"
   ]
  },
  {
   "cell_type": "markdown",
   "metadata": {},
   "source": [
    "<img src=\"Arithmetic.png\" width=\"900\" height=\"480\">"
   ]
  },
  {
   "cell_type": "code",
   "execution_count": 19,
   "metadata": {},
   "outputs": [
    {
     "name": "stdout",
     "output_type": "stream",
     "text": [
      "False\n",
      "True\n",
      "False\n",
      "True\n",
      "False\n",
      "True\n"
     ]
    }
   ],
   "source": [
    "# Examples of Relational Operators \n",
    "a = 13\n",
    "b = 33\n",
    "\n",
    "# a > b is False \n",
    "print(a > b) \n",
    "\n",
    "# a < b is True \n",
    "print(a < b) \n",
    "\n",
    "# a == b is False \n",
    "print(a == b) \n",
    "\n",
    "# a != b is True \n",
    "print(a != b) \n",
    "\n",
    "# a >= b is False \n",
    "print(a >= b) \n",
    "\n",
    "# a <= b is True \n",
    "print(a <= b) \n"
   ]
  },
  {
   "cell_type": "code",
   "execution_count": null,
   "metadata": {},
   "outputs": [],
   "source": [
    "#Exercise"
   ]
  },
  {
   "cell_type": "markdown",
   "metadata": {},
   "source": [
    "<img src=\"Loops1.png\" width=\"1000\" height=\"480\">"
   ]
  },
  {
   "cell_type": "markdown",
   "metadata": {},
   "source": [
    "<img src=\"while.png\" width=\"900\" height=\"480\">"
   ]
  },
  {
   "cell_type": "code",
   "execution_count": 58,
   "metadata": {},
   "outputs": [
    {
     "name": "stdout",
     "output_type": "stream",
     "text": [
      "Hello Geek\n",
      "Hello Geek\n",
      "Hello Geek\n",
      "\n",
      "4\n",
      "3\n",
      "2\n",
      "1\n"
     ]
    }
   ],
   "source": [
    "\n",
    "# Python program to illustrate  \n",
    "# while loop  \n",
    "count = 0\n",
    "while (count < 3):      \n",
    "    count = count + 1\n",
    "    print(\"Hello Geek\")  \n",
    "  \n",
    "print() \n",
    "  \n",
    "# checks if list still \n",
    "# contains any element  \n",
    "a = [1, 2, 3, 4] \n",
    "while a:\n",
    "    print(a.pop()) \n"
   ]
  },
  {
   "cell_type": "code",
   "execution_count": null,
   "metadata": {},
   "outputs": [],
   "source": []
  },
  {
   "cell_type": "markdown",
   "metadata": {},
   "source": [
    "<img src=\"singleWhile.png\" width=\"900\" height=\"480\">"
   ]
  },
  {
   "cell_type": "code",
   "execution_count": 30,
   "metadata": {},
   "outputs": [
    {
     "name": "stdout",
     "output_type": "stream",
     "text": [
      "Hello Geek\n",
      "Hello Geek\n",
      "Hello Geek\n",
      "Hello Geek\n",
      "Hello Geek\n"
     ]
    }
   ],
   "source": [
    "# Python program to illustrate \n",
    "# Single statement while block \n",
    "count = 0\n",
    "while (count < 5): count += 1; print(\"Hello Geek\") \n"
   ]
  },
  {
   "cell_type": "markdown",
   "metadata": {},
   "source": [
    "<img src=\"continue.png\" width=\"1000\" height=\"480\">"
   ]
  },
  {
   "cell_type": "code",
   "execution_count": 32,
   "metadata": {},
   "outputs": [
    {
     "name": "stdout",
     "output_type": "stream",
     "text": [
      "Current Letter : g\n",
      "Current Letter : k\n",
      "Current Letter : f\n",
      "Current Letter : o\n",
      "Current Letter : r\n",
      "Current Letter : g\n",
      "Current Letter : k\n"
     ]
    }
   ],
   "source": [
    "# Prints all letters except 'e' and 's' \n",
    "i = 0\n",
    "a = 'geeksforgeeks'\n",
    "\n",
    "while i < len(a): \n",
    "\tif a[i] == 'e' or a[i] == 's': \n",
    "\t\ti += 1\n",
    "\t\tcontinue\n",
    "\tprint('Current Letter :', a[i]) \n",
    "\ti += 1\n",
    "\n"
   ]
  },
  {
   "cell_type": "markdown",
   "metadata": {},
   "source": [
    "<img src=\"Break.png\" width=\"1200\" height=\"480\">"
   ]
  },
  {
   "cell_type": "code",
   "execution_count": 35,
   "metadata": {},
   "outputs": [
    {
     "name": "stdout",
     "output_type": "stream",
     "text": [
      "Current Letter : g\n",
      "Current Letter : e\n",
      "Current Letter : e\n"
     ]
    }
   ],
   "source": [
    "# break the loop as soon it sees 'e' \n",
    "# or 's' \n",
    "i = 0\n",
    "a = 'geeksforgeeks'\n",
    "\n",
    "while i < len(a): \n",
    "\tif a[i] == 'k' or a[i] == 's': \n",
    "\t\ti += 1\n",
    "\t\tbreak\n",
    "\tprint('Current Letter :', a[i]) \n",
    "\ti += 1\n"
   ]
  },
  {
   "cell_type": "markdown",
   "metadata": {},
   "source": [
    "<img src=\"pass.png\" width=\"1000\" height=\"480\">"
   ]
  },
  {
   "cell_type": "code",
   "execution_count": 62,
   "metadata": {},
   "outputs": [
    {
     "name": "stdout",
     "output_type": "stream",
     "text": [
      "Value of i : 13\n"
     ]
    }
   ],
   "source": [
    "# An empty loop \n",
    "a = 'geeksforgeeks'\n",
    "i = 0\n",
    "\n",
    "while i < len(a): \n",
    "\ti += 1\n",
    "\tpass\n",
    "print('Value of i :', i) \n"
   ]
  },
  {
   "cell_type": "markdown",
   "metadata": {},
   "source": [
    "<img src=\"while-else.png\" width=\"1000\" height=\"480\">"
   ]
  },
  {
   "cell_type": "code",
   "execution_count": 63,
   "metadata": {},
   "outputs": [
    {
     "name": "stdout",
     "output_type": "stream",
     "text": [
      "1\n",
      "2\n",
      "3\n",
      "4\n",
      "No Break\n",
      "\n",
      "1\n"
     ]
    }
   ],
   "source": [
    "# Python program to demonstrate \n",
    "# while-else loop \n",
    "i = 0\n",
    "while i < 4: \n",
    "\ti += 1\n",
    "\tprint(i) \n",
    "else: # Executed because no break in for \n",
    "\tprint(\"No Break\\n\") \n",
    "\n",
    "i = 0\n",
    "while i < 4: \n",
    "\ti += 1\n",
    "\tprint(i) \n",
    "\tbreak\n",
    "else: # Not executed as there is a break \n",
    "\tprint(\"No Break\") \n"
   ]
  },
  {
   "cell_type": "code",
   "execution_count": null,
   "metadata": {},
   "outputs": [],
   "source": []
  },
  {
   "cell_type": "markdown",
   "metadata": {},
   "source": [
    "<img src=\"For.png\" width=\"900\" height=\"480\">"
   ]
  },
  {
   "cell_type": "code",
   "execution_count": 29,
   "metadata": {},
   "outputs": [
    {
     "name": "stdout",
     "output_type": "stream",
     "text": [
      "We're on time 0\n",
      "We're on time 1\n",
      "We're on time 2\n",
      "----------------------------------\n",
      "---List Iteration---\n",
      "geeks\n",
      "for\n",
      "geeks\n",
      "----------------------------------\n",
      "\n",
      "-----Tuple Iteration-----\n",
      "geeks\n",
      "for\n",
      "geeks\n",
      "----------------------------------\n",
      "\n",
      "---String Iteration---\n",
      "G\n",
      "e\n",
      "e\n",
      "k\n",
      "s\n",
      "----------------------------------\n",
      "\n",
      "----Dictionary Iteration----\n",
      "xyz  123\n",
      "abc  345\n"
     ]
    }
   ],
   "source": [
    "\n",
    "# Simple For\n",
    "\n",
    "for x in range(0, 3):\n",
    "    print(\"We're on time %d\" % (x))\n",
    "    \n",
    "    \n",
    "print(\"----------------------------------\") \n",
    "\n",
    "\n",
    "# Iterating over a list  \n",
    "print(\"---List Iteration---\")  \n",
    "l = [\"geeks\", \"for\", \"geeks\"]  \n",
    "for i in l:  \n",
    "    print(i)  \n",
    "    \n",
    "print(\"----------------------------------\") \n",
    "         \n",
    "# Iterating over a tuple (immutable)  \n",
    "print(\"\\n-----Tuple Iteration-----\")  \n",
    "t = (\"geeks\", \"for\", \"geeks\")  \n",
    "for i in t:  \n",
    "    print(i)  \n",
    "    \n",
    "print(\"----------------------------------\") \n",
    "         \n",
    "# Iterating over a String  \n",
    "print(\"\\n---String Iteration---\")      \n",
    "s = \"Geeks\"\n",
    "for i in s :  \n",
    "    print(i)  \n",
    "\n",
    "print(\"----------------------------------\") \n",
    "         \n",
    "# Iterating over dictionary  \n",
    "print(\"\\n----Dictionary Iteration----\")     \n",
    "d = dict()   \n",
    "d['xyz'] = 123\n",
    "d['abc'] = 345\n",
    "for i in d :  \n",
    "    print(\"% s % d\" %(i, d[i]))  "
   ]
  },
  {
   "cell_type": "markdown",
   "metadata": {},
   "source": [
    "<img src=\"continue.png\" width=\"1000\" height=\"480\">"
   ]
  },
  {
   "cell_type": "code",
   "execution_count": 67,
   "metadata": {},
   "outputs": [
    {
     "name": "stdout",
     "output_type": "stream",
     "text": [
      "Current Letter : g\n",
      "Current Letter : k\n",
      "Current Letter : f\n",
      "Current Letter : o\n",
      "Current Letter : r\n",
      "Current Letter : g\n",
      "Current Letter : k\n"
     ]
    }
   ],
   "source": [
    "# Prints all letters except 'e' and 's' \n",
    "for letter in 'geeksforgeeks': \n",
    "\tif letter == 'e' or letter == 's': \n",
    "\t\tcontinue\n",
    "\tprint('Current Letter :', letter) \n",
    "\t#var = 10\n"
   ]
  },
  {
   "cell_type": "markdown",
   "metadata": {},
   "source": [
    "<img src=\"Break.png\" width=\"1200\" height=\"480\">"
   ]
  },
  {
   "cell_type": "code",
   "execution_count": 74,
   "metadata": {},
   "outputs": [
    {
     "name": "stdout",
     "output_type": "stream",
     "text": [
      "Current Letter : g\n",
      "Current Letter : e\n",
      "Current Letter : e\n"
     ]
    }
   ],
   "source": [
    "for letter in 'geeksforgeeks': \n",
    "\t\n",
    "\t# break the loop as soon it sees 'e' \n",
    "\t# or 's' \n",
    "\tif letter == 'k' or letter == 's': \n",
    "\t\tbreak\n",
    "\tprint('Current Letter :', letter) \n"
   ]
  },
  {
   "cell_type": "markdown",
   "metadata": {},
   "source": [
    "<img src=\"pass.png\" width=\"1000\" height=\"480\">"
   ]
  },
  {
   "cell_type": "code",
   "execution_count": 76,
   "metadata": {},
   "outputs": [
    {
     "name": "stdout",
     "output_type": "stream",
     "text": [
      "Last Letter : s\n"
     ]
    }
   ],
   "source": [
    "# An empty loop \n",
    "for letter in 'geeksforgeeks': \n",
    "\tpass\n",
    "print('Last Letter :', letter) \n"
   ]
  },
  {
   "cell_type": "markdown",
   "metadata": {},
   "source": [
    "<img src=\"Nested.png\" width=\"1000\" height=\"480\">"
   ]
  },
  {
   "cell_type": "code",
   "execution_count": 114,
   "metadata": {},
   "outputs": [
    {
     "name": "stdout",
     "output_type": "stream",
     "text": [
      "1 \n",
      "2 2 \n",
      "3 3 3 \n",
      "4 4 4 4 \n",
      "$$$$$$$$$$$$$$$$$$$$$$$$$$$$$\n",
      "\n",
      "---------\n",
      "|1||2||3|\n",
      "---------\n",
      "|4||5||6|\n",
      "---------\n"
     ]
    }
   ],
   "source": [
    "# Python program to illustrate \n",
    "# nested for loops in Python \n",
    "\n",
    "a = [[1, 2, 3], [4, 5, 6]]\n",
    "\n",
    "\n",
    "for i in range(1, 5): \n",
    "\tfor j in range(i): \n",
    "\t\tprint(i, end=' ') \n",
    "\tprint() \n",
    "\n",
    "print(\"$$$$$$$$$$$$$$$$$$$$$$$$$$$$$\")\n",
    "    \n",
    "for i in range(len(a)):\n",
    "    print()\n",
    "    print(\"---------\")\n",
    "    for j in range(len(a[i])):\n",
    "        print(\"|\" , end = '')\n",
    "        print(a[i][j] , end = '')\n",
    "        print(\"|\" , end = '')\n",
    "print()\n",
    "print(\"---------\")"
   ]
  },
  {
   "cell_type": "code",
   "execution_count": null,
   "metadata": {},
   "outputs": [],
   "source": []
  }
 ],
 "metadata": {
  "kernelspec": {
   "display_name": "Python 3",
   "language": "python",
   "name": "python3"
  },
  "language_info": {
   "codemirror_mode": {
    "name": "ipython",
    "version": 3
   },
   "file_extension": ".py",
   "mimetype": "text/x-python",
   "name": "python",
   "nbconvert_exporter": "python",
   "pygments_lexer": "ipython3",
   "version": "3.7.4"
  }
 },
 "nbformat": 4,
 "nbformat_minor": 4
}
